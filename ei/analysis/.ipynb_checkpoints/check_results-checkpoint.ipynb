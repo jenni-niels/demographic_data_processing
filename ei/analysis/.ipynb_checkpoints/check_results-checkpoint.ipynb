{
 "cells": [
  {
   "cell_type": "code",
   "execution_count": 1,
   "metadata": {},
   "outputs": [],
   "source": [
    "import pandas as pd\n",
    "import matplotlib.pyplot as plt"
   ]
  },
  {
   "cell_type": "markdown",
   "metadata": {},
   "source": [
    "### Context\n",
    "* Biden's [overall margin of victory](https://www.npr.org/sections/live-updates-2020-election-results/2020/11/19/936647882/georgia-releases-hand-recount-results-affirming-bidens-lead) in Georgia: 11,779 votes\n",
    "* % of shapefile CVAP marked as `AMINCVAP.` = 0.66%'\n",
    "\n",
    "### Ground truth?\n",
    "* [NYTimes GA voter survey](https://www.nytimes.com/interactive/2020/11/03/us/elections/ap-polls-georgia.html) had <1% Native American respondents, so no results shown.\n",
    "* [American Election Eve poll](https://electioneve2020.com/poll/#/en/demographics/native-american/) only had Native American results for AZ"
   ]
  },
  {
   "cell_type": "code",
   "execution_count": 73,
   "metadata": {},
   "outputs": [
    {
     "data": {
      "text/plain": [
       "7452"
      ]
     },
     "execution_count": 73,
     "metadata": {},
     "output_type": "execute_result"
    }
   ],
   "source": [
    "df = pd.read_csv(\"../outputs/AZ_2020_VTDs/EI_scalePop_0_1000_1000/1/prec_mean_counts.csv\")\n",
    "df[\"PRES20D\"].sum() - df[\"PRES20R\"].sum()"
   ]
  },
  {
   "cell_type": "code",
   "execution_count": 74,
   "metadata": {},
   "outputs": [
    {
     "data": {
      "text/plain": [
       "1473"
      ]
     },
     "execution_count": 74,
     "metadata": {},
     "output_type": "execute_result"
    }
   ],
   "source": [
    "len(df)"
   ]
  },
  {
   "cell_type": "code",
   "execution_count": null,
   "metadata": {},
   "outputs": [],
   "source": [
    "def EI_results(ei_run, length):\n",
    "    movs = []\n",
    "    data_runs = \"scalePop scaleVotes buffer\".split()\n",
    "    for data_run in data_runs:\n",
    "        run = f\"EI_{data_run}_0_{length}_{length}/{ei_run}/\"\n",
    "        df = pd.read_csv(f\"../outputs/EI_{data_run}_0_{length}_{length}/\")"
   ]
  },
  {
   "cell_type": "code",
   "execution_count": 47,
   "metadata": {},
   "outputs": [],
   "source": [
    "cands = [\"PRES20D\", \"PRES20R\", \"NOTVOTES\"]\n",
    "\n",
    "def summarize(ei_run, data_run):\n",
    "    print(f\"Data run: {data_run}\")\n",
    "    print(f\"  EI run: {ei_run}\")\n",
    "    df = pd.read_csv(f\"../outputs/{data_run}/{ei_run}/1/prec_mean_counts.csv\")\n",
    "    print(\"AMIN CVAP %: {:.2%}\".format(df[\"AMINCVAP.\"].sum() / df[\"CVAP\"].sum()))\n",
    "    for i in range(1,5):\n",
    "        print(f\"EI run {i}:\")\n",
    "        df = pd.read_csv(f\"../outputs/{data_run}/{ei_run}/{i}/prec_mean_counts.csv\")\n",
    "        AMIN_Biden = df[\"EI_AMINCVAP._PRES20D\"].sum()\n",
    "        AMIN_Trump =df[\"EI_AMINCVAP._PRES20R\"].sum()\n",
    "        biden_MOV = AMIN_Biden - AMIN_Trump\n",
    "        turnout = (AMIN_Biden + AMIN_Trump) / sum([df[f\"EI_AMINCVAP._{c}\"].sum() for c in cands])\n",
    "        print(f\" -- AMIN Biden votes: {AMIN_Biden}\")\n",
    "        print(f\" -- AMIN Trump votes: {AMIN_Trump}\")\n",
    "        print(f\" -- Biden Margin of Victory: {biden_MOV}\")\n",
    "        print(f\" -- AMIN Turnout {turnout}\")\n",
    "    return"
   ]
  },
  {
   "cell_type": "code",
   "execution_count": 63,
   "metadata": {},
   "outputs": [
    {
     "name": "stdout",
     "output_type": "stream",
     "text": [
      "Data run: AZ_2020_VTDs\n",
      "  EI run: EI_scalePop_0_1000_1000\n",
      "AMIN CVAP %: 4.87%\n",
      "EI run 1:\n",
      " -- AMIN Biden votes: 126439\n",
      " -- AMIN Trump votes: 44812\n",
      " -- Biden Margin of Victory: 81627\n",
      " -- AMIN Turnout 0.719935258754782\n",
      "EI run 2:\n",
      " -- AMIN Biden votes: 126316\n",
      " -- AMIN Trump votes: 43914\n",
      " -- Biden Margin of Victory: 82402\n",
      " -- AMIN Turnout 0.7155527532576713\n",
      "EI run 3:\n",
      " -- AMIN Biden votes: 125692\n",
      " -- AMIN Trump votes: 44739\n",
      " -- Biden Margin of Victory: 80953\n",
      " -- AMIN Turnout 0.7163585007965096\n",
      "EI run 4:\n",
      " -- AMIN Biden votes: 124841\n",
      " -- AMIN Trump votes: 45836\n",
      " -- Biden Margin of Victory: 79005\n",
      " -- AMIN Turnout 0.7174347096877246\n"
     ]
    }
   ],
   "source": [
    "summarize(\"EI_scalePop_0_1000_1000\", \"AZ_2020_VTDs\")"
   ]
  },
  {
   "cell_type": "code",
   "execution_count": 69,
   "metadata": {},
   "outputs": [
    {
     "name": "stdout",
     "output_type": "stream",
     "text": [
      "Data run: AZ_2020_VTDs\n",
      "  EI run: EI_scalePop_0_3000_3000\n",
      "AMIN CVAP %: 4.87%\n",
      "EI run 1:\n",
      " -- AMIN Biden votes: 128561\n",
      " -- AMIN Trump votes: 42791\n",
      " -- Biden Margin of Victory: 85770\n",
      " -- AMIN Turnout 0.7203083817106442\n",
      "EI run 2:\n",
      " -- AMIN Biden votes: 128044\n",
      " -- AMIN Trump votes: 43305\n",
      " -- Biden Margin of Victory: 84739\n",
      " -- AMIN Turnout 0.7203169665377501\n",
      "EI run 3:\n",
      " -- AMIN Biden votes: 128259\n",
      " -- AMIN Trump votes: 42424\n",
      " -- Biden Margin of Victory: 85835\n",
      " -- AMIN Turnout 0.7174056498694923\n",
      "EI run 4:\n",
      " -- AMIN Biden votes: 127588\n",
      " -- AMIN Trump votes: 44362\n",
      " -- Biden Margin of Victory: 83226\n",
      " -- AMIN Turnout 0.7229011901909098\n"
     ]
    }
   ],
   "source": [
    "summarize(\"EI_scalePop_0_3000_3000\", \"AZ_2020_VTDs\")"
   ]
  },
  {
   "cell_type": "code",
   "execution_count": 64,
   "metadata": {},
   "outputs": [
    {
     "name": "stdout",
     "output_type": "stream",
     "text": [
      "Data run: AZ_2020_VTDs\n",
      "  EI run: EI_scaleVotes_0_1000_1000\n",
      "AMIN CVAP %: 4.51%\n",
      "EI run 1:\n",
      " -- AMIN Biden votes: 116261\n",
      " -- AMIN Trump votes: 36985\n",
      " -- Biden Margin of Victory: 79276\n",
      " -- AMIN Turnout 0.6946907468857096\n",
      "EI run 2:\n",
      " -- AMIN Biden votes: 115149\n",
      " -- AMIN Trump votes: 37818\n",
      " -- Biden Margin of Victory: 77331\n",
      " -- AMIN Turnout 0.6934291348398649\n",
      "EI run 3:\n",
      " -- AMIN Biden votes: 117027\n",
      " -- AMIN Trump votes: 35255\n",
      " -- Biden Margin of Victory: 81772\n",
      " -- AMIN Turnout 0.6903958798034202\n",
      "EI run 4:\n",
      " -- AMIN Biden votes: 114678\n",
      " -- AMIN Trump votes: 38039\n",
      " -- Biden Margin of Victory: 76639\n",
      " -- AMIN Turnout 0.6923491916691601\n"
     ]
    }
   ],
   "source": [
    "summarize(\"EI_scaleVotes_0_1000_1000\", \"AZ_2020_VTDs\")"
   ]
  },
  {
   "cell_type": "code",
   "execution_count": 65,
   "metadata": {},
   "outputs": [
    {
     "name": "stdout",
     "output_type": "stream",
     "text": [
      "Data run: AZ_2020_VTDs\n",
      "  EI run: EI_buffer_0_1000_1000\n",
      "AMIN CVAP %: 4.51%\n",
      "EI run 1:\n",
      " -- AMIN Biden votes: 116989\n",
      " -- AMIN Trump votes: 37046\n",
      " -- Biden Margin of Victory: 79943\n",
      " -- AMIN Turnout 0.6984985693102307\n",
      "EI run 2:\n",
      " -- AMIN Biden votes: 114425\n",
      " -- AMIN Trump votes: 38779\n",
      " -- Biden Margin of Victory: 75646\n",
      " -- AMIN Turnout 0.6946704029164513\n",
      "EI run 3:\n",
      " -- AMIN Biden votes: 113733\n",
      " -- AMIN Trump votes: 39139\n",
      " -- Biden Margin of Victory: 74594\n",
      " -- AMIN Turnout 0.6931461631934999\n",
      "EI run 4:\n",
      " -- AMIN Biden votes: 117331\n",
      " -- AMIN Trump votes: 36464\n",
      " -- Biden Margin of Victory: 80867\n",
      " -- AMIN Turnout 0.6974671776150201\n"
     ]
    }
   ],
   "source": [
    "summarize(\"EI_buffer_0_1000_1000\", \"AZ_2020_VTDs\")"
   ]
  },
  {
   "cell_type": "code",
   "execution_count": 62,
   "metadata": {},
   "outputs": [
    {
     "name": "stdout",
     "output_type": "stream",
     "text": [
      "Data run: WI_2020_ward_groups\n",
      "  EI run: EI_buffer_0_1000_1000\n",
      "AMIN CVAP %: 1.23%\n",
      "EI run 1:\n",
      " -- AMIN Biden votes: 34130\n",
      " -- AMIN Trump votes: 11475\n",
      " -- Biden Margin of Victory: 22655\n",
      " -- AMIN Turnout 0.8520158427680006\n",
      "EI run 2:\n",
      " -- AMIN Biden votes: 32674\n",
      " -- AMIN Trump votes: 13172\n",
      " -- Biden Margin of Victory: 19502\n",
      " -- AMIN Turnout 0.8543157423971377\n",
      "EI run 3:\n",
      " -- AMIN Biden votes: 33862\n",
      " -- AMIN Trump votes: 11154\n",
      " -- Biden Margin of Victory: 22708\n",
      " -- AMIN Turnout 0.8406192227969599\n",
      "EI run 4:\n",
      " -- AMIN Biden votes: 33264\n",
      " -- AMIN Trump votes: 12385\n",
      " -- Biden Margin of Victory: 20879\n",
      " -- AMIN Turnout 0.8527582148661523\n"
     ]
    }
   ],
   "source": [
    "summarize(\"EI_buffer_0_1000_1000\", \"WI_2020_ward_groups\")"
   ]
  },
  {
   "cell_type": "code",
   "execution_count": 71,
   "metadata": {},
   "outputs": [
    {
     "name": "stdout",
     "output_type": "stream",
     "text": [
      "Data run: WI_2020_ward_groups\n",
      "  EI run: EI_scalePop_0_1000_1000\n",
      "AMIN CVAP %: 1.23%\n",
      "EI run 1:\n",
      " -- AMIN Biden votes: 32382\n",
      " -- AMIN Trump votes: 13156\n",
      " -- Biden Margin of Victory: 19226\n",
      " -- AMIN Turnout 0.8469349799137034\n",
      "EI run 2:\n",
      " -- AMIN Biden votes: 33227\n",
      " -- AMIN Trump votes: 11566\n",
      " -- Biden Margin of Victory: 21661\n",
      " -- AMIN Turnout 0.8340098309376629\n",
      "EI run 3:\n",
      " -- AMIN Biden votes: 33795\n",
      " -- AMIN Trump votes: 11874\n",
      " -- Biden Margin of Victory: 21921\n",
      " -- AMIN Turnout 0.8515410863120211\n",
      "EI run 4:\n",
      " -- AMIN Biden votes: 32219\n",
      " -- AMIN Trump votes: 13409\n",
      " -- Biden Margin of Victory: 18810\n",
      " -- AMIN Turnout 0.8488772301910662\n"
     ]
    }
   ],
   "source": [
    "summarize(\"EI_scalePop_0_1000_1000\", \"WI_2020_ward_groups\")"
   ]
  },
  {
   "cell_type": "code",
   "execution_count": 72,
   "metadata": {},
   "outputs": [
    {
     "name": "stdout",
     "output_type": "stream",
     "text": [
      "Data run: WI_2020_ward_groups\n",
      "  EI run: EI_scalePop_0_3000_3000\n",
      "AMIN CVAP %: 1.23%\n",
      "EI run 1:\n",
      " -- AMIN Biden votes: 34685\n",
      " -- AMIN Trump votes: 10157\n",
      " -- Biden Margin of Victory: 24528\n",
      " -- AMIN Turnout 0.835046554934823\n",
      "EI run 2:\n",
      " -- AMIN Biden votes: 33518\n",
      " -- AMIN Trump votes: 11670\n",
      " -- Biden Margin of Victory: 21848\n",
      " -- AMIN Turnout 0.8423368005070275\n",
      "EI run 3:\n",
      " -- AMIN Biden votes: 33472\n",
      " -- AMIN Trump votes: 11908\n",
      " -- Biden Margin of Victory: 21564\n",
      " -- AMIN Turnout 0.8463575664888657\n",
      "EI run 4:\n",
      " -- AMIN Biden votes: 34469\n",
      " -- AMIN Trump votes: 10626\n",
      " -- Biden Margin of Victory: 23843\n",
      " -- AMIN Turnout 0.8406972408650261\n"
     ]
    }
   ],
   "source": [
    "summarize(\"EI_scalePop_0_3000_3000\", \"WI_2020_ward_groups\")"
   ]
  },
  {
   "cell_type": "code",
   "execution_count": 49,
   "metadata": {},
   "outputs": [
    {
     "name": "stdout",
     "output_type": "stream",
     "text": [
      "Data run: WI_2020_ward_groups\n",
      "  EI run: EI_scaleVotes_0_1000_1000\n",
      "AMIN CVAP %: 1.23%\n",
      "EI run 1:\n",
      " -- AMIN Biden votes: 33133\n",
      " -- AMIN Trump votes: 10808\n",
      " -- Biden Margin of Victory: 22325\n",
      " -- AMIN Turnout 0.8198865544650521\n",
      "EI run 2:\n",
      " -- AMIN Biden votes: 32074\n",
      " -- AMIN Trump votes: 12375\n",
      " -- Biden Margin of Victory: 19699\n",
      " -- AMIN Turnout 0.8297213044371021\n",
      "EI run 3:\n",
      " -- AMIN Biden votes: 33564\n",
      " -- AMIN Trump votes: 10736\n",
      " -- Biden Margin of Victory: 22828\n",
      " -- AMIN Turnout 0.8262458967472396\n",
      "EI run 4:\n",
      " -- AMIN Biden votes: 32054\n",
      " -- AMIN Trump votes: 11730\n",
      " -- Biden Margin of Victory: 20324\n",
      " -- AMIN Turnout 0.8188057524358088\n"
     ]
    }
   ],
   "source": [
    "summarize(\"EI_scaleVotes_0_1000_1000\", \"WI_2020_ward_groups\")"
   ]
  },
  {
   "cell_type": "code",
   "execution_count": 52,
   "metadata": {},
   "outputs": [
    {
     "name": "stdout",
     "output_type": "stream",
     "text": [
      "Data run: GA_2020_precincts\n",
      "  EI run: EI_scaleVotes_0_1000_1000\n",
      "AMIN CVAP %: 0.66%\n",
      "EI run 1:\n",
      " -- AMIN Biden votes: 16038\n",
      " -- AMIN Trump votes: 28994\n",
      " -- Biden Margin of Victory: -12956\n",
      " -- AMIN Turnout 0.9408127023921445\n",
      "EI run 2:\n",
      " -- AMIN Biden votes: 18921\n",
      " -- AMIN Trump votes: 26795\n",
      " -- Biden Margin of Victory: -7874\n",
      " -- AMIN Turnout 0.953907146583203\n",
      "EI run 3:\n",
      " -- AMIN Biden votes: 24110\n",
      " -- AMIN Trump votes: 21330\n",
      " -- Biden Margin of Victory: 2780\n",
      " -- AMIN Turnout 0.9487816591151108\n",
      "EI run 4:\n",
      " -- AMIN Biden votes: 23160\n",
      " -- AMIN Trump votes: 20930\n",
      " -- Biden Margin of Victory: 2230\n",
      " -- AMIN Turnout 0.9238344683080146\n"
     ]
    }
   ],
   "source": [
    "summarize(\"EI_scaleVotes_0_1000_1000\", \"GA_2020_precincts\")"
   ]
  },
  {
   "cell_type": "code",
   "execution_count": 57,
   "metadata": {},
   "outputs": [
    {
     "name": "stdout",
     "output_type": "stream",
     "text": [
      "Data run: GA_2020_precincts\n",
      "  EI run: EI_buffer_0_1000_1000\n",
      "AMIN CVAP %: 0.66%\n",
      "EI run 1:\n",
      " -- AMIN Biden votes: 23327\n",
      " -- AMIN Trump votes: 22507\n",
      " -- Biden Margin of Victory: 820\n",
      " -- AMIN Turnout 0.9624745385439197\n",
      "EI run 2:\n",
      " -- AMIN Biden votes: 23238\n",
      " -- AMIN Trump votes: 22700\n",
      " -- Biden Margin of Victory: 538\n",
      " -- AMIN Turnout 0.9644154262800999\n",
      "EI run 3:\n",
      " -- AMIN Biden votes: 20431\n",
      " -- AMIN Trump votes: 25465\n",
      " -- Biden Margin of Victory: -5034\n",
      " -- AMIN Turnout 0.9577029818667445\n",
      "EI run 4:\n",
      " -- AMIN Biden votes: 21757\n",
      " -- AMIN Trump votes: 24467\n",
      " -- Biden Margin of Victory: -2710\n",
      " -- AMIN Turnout 0.9631805963618179\n"
     ]
    }
   ],
   "source": [
    "summarize(\"EI_buffer_0_1000_1000\", \"GA_2020_precincts\")"
   ]
  }
 ],
 "metadata": {
  "kernelspec": {
   "display_name": "Python 3",
   "language": "python",
   "name": "python3"
  },
  "language_info": {
   "codemirror_mode": {
    "name": "ipython",
    "version": 3
   },
   "file_extension": ".py",
   "mimetype": "text/x-python",
   "name": "python",
   "nbconvert_exporter": "python",
   "pygments_lexer": "ipython3",
   "version": "3.8.5"
  }
 },
 "nbformat": 4,
 "nbformat_minor": 4
}

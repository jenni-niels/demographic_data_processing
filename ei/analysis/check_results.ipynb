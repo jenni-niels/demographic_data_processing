{
 "cells": [
  {
   "cell_type": "code",
   "execution_count": 1,
   "metadata": {},
   "outputs": [],
   "source": [
    "import pandas as pd\n",
    "import matplotlib.pyplot as plt"
   ]
  },
  {
   "cell_type": "markdown",
   "metadata": {},
   "source": [
    "### Context\n",
    "* Biden's [overall margin of victory](https://www.npr.org/sections/live-updates-2020-election-results/2020/11/19/936647882/georgia-releases-hand-recount-results-affirming-bidens-lead) in Georgia: 11,779 votes\n",
    "* % of shapefile CVAP marked as `AMINCVAP.` = 0.66%'\n",
    "\n",
    "### Ground truth?\n",
    "* [NYTimes GA voter survey](https://www.nytimes.com/interactive/2020/11/03/us/elections/ap-polls-georgia.html) had <1% Native American respondents, so no results shown.\n",
    "* [American Election Eve poll](https://electioneve2020.com/poll/#/en/demographics/native-american/) only had Native American results for AZ"
   ]
  },
  {
   "cell_type": "code",
   "execution_count": 10,
   "metadata": {},
   "outputs": [],
   "source": [
    "def EI_results(data_run, length, pop=\"CVAP\", phase=\"\"):\n",
    "    movs = []\n",
    "    ei_runs = \"scalePop scaleVotes buffer\".split()\n",
    "    for ei_run in ei_runs:\n",
    "        run = f\"{data_run}/EI{phase}_{ei_run}_0_{length}_{length}\"\n",
    "        for i in range(1,5):\n",
    "            df = pd.read_csv(f\"../outputs/{run}/{i}/prec_mean_counts.csv\")\n",
    "            mov = df[f\"EI_AMIN{pop}._PRES20D\"].sum() - df[f\"EI_AMIN{pop}._PRES20R\"].sum()\n",
    "            print(f\"{ei_run} -- {mov}\".rjust(20, \" \"))\n",
    "            movs.append(mov)\n",
    "    print(f\"Min MOV: {min(movs)}\")\n",
    "    print(f\"Max MOV: {max(movs)}\")\n",
    "#     return movs"
   ]
  },
  {
   "cell_type": "code",
   "execution_count": 18,
   "metadata": {},
   "outputs": [
    {
     "name": "stdout",
     "output_type": "stream",
     "text": [
      "   scalePop -- 81627\n",
      "   scalePop -- 82402\n",
      "   scalePop -- 80953\n",
      "   scalePop -- 79005\n",
      " scaleVotes -- 79276\n",
      " scaleVotes -- 77331\n",
      " scaleVotes -- 81772\n",
      " scaleVotes -- 76639\n",
      "     buffer -- 79943\n",
      "     buffer -- 75646\n",
      "     buffer -- 74594\n",
      "     buffer -- 80867\n",
      "Min MOV: 74594\n",
      "Max MOV: 82402\n"
     ]
    }
   ],
   "source": [
    "EI_results(\"AZ_2020_VTDs\", 1000, pop=\"CVAP\", phase=\"\")"
   ]
  },
  {
   "cell_type": "code",
   "execution_count": 116,
   "metadata": {},
   "outputs": [
    {
     "name": "stdout",
     "output_type": "stream",
     "text": [
      "    scalePop -- 4651\n",
      "    scalePop -- 6355\n",
      "   scalePop -- 10075\n",
      "   scalePop -- 31737\n",
      "scaleVotes -- -12956\n",
      " scaleVotes -- -7874\n",
      "  scaleVotes -- 2780\n",
      "  scaleVotes -- 2230\n",
      "       buffer -- 820\n",
      "       buffer -- 538\n",
      "     buffer -- -5034\n",
      "     buffer -- -2710\n",
      "Min MOV: -12956\n",
      "Max MOV: 31737\n"
     ]
    }
   ],
   "source": [
    "EI_results(\"GA_2020_precincts\", 1000)"
   ]
  },
  {
   "cell_type": "code",
   "execution_count": 117,
   "metadata": {},
   "outputs": [
    {
     "name": "stdout",
     "output_type": "stream",
     "text": [
      "   scalePop -- 81627\n",
      "   scalePop -- 82402\n",
      "   scalePop -- 80953\n",
      "   scalePop -- 79005\n",
      " scaleVotes -- 79276\n",
      " scaleVotes -- 77331\n",
      " scaleVotes -- 81772\n",
      " scaleVotes -- 76639\n",
      "     buffer -- 79943\n",
      "     buffer -- 75646\n",
      "     buffer -- 74594\n",
      "     buffer -- 80867\n",
      "Min MOV: 74594\n",
      "Max MOV: 82402\n"
     ]
    }
   ],
   "source": [
    "EI_results(\"AZ_2020_VTDs\", 1000)"
   ]
  },
  {
   "cell_type": "code",
   "execution_count": 125,
   "metadata": {},
   "outputs": [
    {
     "name": "stdout",
     "output_type": "stream",
     "text": [
      "   scalePop -- 85770\n",
      "   scalePop -- 84739\n",
      "   scalePop -- 85835\n",
      "   scalePop -- 83226\n"
     ]
    },
    {
     "ename": "FileNotFoundError",
     "evalue": "[Errno 2] No such file or directory: '../outputs/AZ_2020_VTDs/EI_scaleVotes_0_3000_3000/1/prec_mean_counts.csv'",
     "output_type": "error",
     "traceback": [
      "\u001b[0;31m---------------------------------------------------------------------------\u001b[0m",
      "\u001b[0;31mFileNotFoundError\u001b[0m                         Traceback (most recent call last)",
      "\u001b[0;32m<ipython-input-125-80543daa43f9>\u001b[0m in \u001b[0;36m<module>\u001b[0;34m\u001b[0m\n\u001b[0;32m----> 1\u001b[0;31m \u001b[0mEI_results\u001b[0m\u001b[0;34m(\u001b[0m\u001b[0;34m\"AZ_2020_VTDs\"\u001b[0m\u001b[0;34m,\u001b[0m \u001b[0;36m3000\u001b[0m\u001b[0;34m)\u001b[0m\u001b[0;34m\u001b[0m\u001b[0;34m\u001b[0m\u001b[0m\n\u001b[0m",
      "\u001b[0;32m<ipython-input-115-6137cbb0ad62>\u001b[0m in \u001b[0;36mEI_results\u001b[0;34m(data_run, length, pop)\u001b[0m\n\u001b[1;32m      5\u001b[0m         \u001b[0mrun\u001b[0m \u001b[0;34m=\u001b[0m \u001b[0;34mf\"{data_run}/EI_{ei_run}_0_{length}_{length}\"\u001b[0m\u001b[0;34m\u001b[0m\u001b[0;34m\u001b[0m\u001b[0m\n\u001b[1;32m      6\u001b[0m         \u001b[0;32mfor\u001b[0m \u001b[0mi\u001b[0m \u001b[0;32min\u001b[0m \u001b[0mrange\u001b[0m\u001b[0;34m(\u001b[0m\u001b[0;36m1\u001b[0m\u001b[0;34m,\u001b[0m\u001b[0;36m5\u001b[0m\u001b[0;34m)\u001b[0m\u001b[0;34m:\u001b[0m\u001b[0;34m\u001b[0m\u001b[0;34m\u001b[0m\u001b[0m\n\u001b[0;32m----> 7\u001b[0;31m             \u001b[0mdf\u001b[0m \u001b[0;34m=\u001b[0m \u001b[0mpd\u001b[0m\u001b[0;34m.\u001b[0m\u001b[0mread_csv\u001b[0m\u001b[0;34m(\u001b[0m\u001b[0;34mf\"../outputs/{run}/{i}/prec_mean_counts.csv\"\u001b[0m\u001b[0;34m)\u001b[0m\u001b[0;34m\u001b[0m\u001b[0;34m\u001b[0m\u001b[0m\n\u001b[0m\u001b[1;32m      8\u001b[0m             \u001b[0mmov\u001b[0m \u001b[0;34m=\u001b[0m \u001b[0mdf\u001b[0m\u001b[0;34m[\u001b[0m\u001b[0;34mf\"EI_AMIN{pop}._PRES20D\"\u001b[0m\u001b[0;34m]\u001b[0m\u001b[0;34m.\u001b[0m\u001b[0msum\u001b[0m\u001b[0;34m(\u001b[0m\u001b[0;34m)\u001b[0m \u001b[0;34m-\u001b[0m \u001b[0mdf\u001b[0m\u001b[0;34m[\u001b[0m\u001b[0;34mf\"EI_AMIN{pop}._PRES20R\"\u001b[0m\u001b[0;34m]\u001b[0m\u001b[0;34m.\u001b[0m\u001b[0msum\u001b[0m\u001b[0;34m(\u001b[0m\u001b[0;34m)\u001b[0m\u001b[0;34m\u001b[0m\u001b[0;34m\u001b[0m\u001b[0m\n\u001b[1;32m      9\u001b[0m             \u001b[0mprint\u001b[0m\u001b[0;34m(\u001b[0m\u001b[0;34mf\"{ei_run} -- {mov}\"\u001b[0m\u001b[0;34m.\u001b[0m\u001b[0mrjust\u001b[0m\u001b[0;34m(\u001b[0m\u001b[0;36m20\u001b[0m\u001b[0;34m,\u001b[0m \u001b[0;34m\" \"\u001b[0m\u001b[0;34m)\u001b[0m\u001b[0;34m)\u001b[0m\u001b[0;34m\u001b[0m\u001b[0;34m\u001b[0m\u001b[0m\n",
      "\u001b[0;32m~/miniconda3/lib/python3.8/site-packages/pandas/io/parsers.py\u001b[0m in \u001b[0;36mread_csv\u001b[0;34m(filepath_or_buffer, sep, delimiter, header, names, index_col, usecols, squeeze, prefix, mangle_dupe_cols, dtype, engine, converters, true_values, false_values, skipinitialspace, skiprows, skipfooter, nrows, na_values, keep_default_na, na_filter, verbose, skip_blank_lines, parse_dates, infer_datetime_format, keep_date_col, date_parser, dayfirst, cache_dates, iterator, chunksize, compression, thousands, decimal, lineterminator, quotechar, quoting, doublequote, escapechar, comment, encoding, dialect, error_bad_lines, warn_bad_lines, delim_whitespace, low_memory, memory_map, float_precision)\u001b[0m\n\u001b[1;32m    684\u001b[0m     )\n\u001b[1;32m    685\u001b[0m \u001b[0;34m\u001b[0m\u001b[0m\n\u001b[0;32m--> 686\u001b[0;31m     \u001b[0;32mreturn\u001b[0m \u001b[0m_read\u001b[0m\u001b[0;34m(\u001b[0m\u001b[0mfilepath_or_buffer\u001b[0m\u001b[0;34m,\u001b[0m \u001b[0mkwds\u001b[0m\u001b[0;34m)\u001b[0m\u001b[0;34m\u001b[0m\u001b[0;34m\u001b[0m\u001b[0m\n\u001b[0m\u001b[1;32m    687\u001b[0m \u001b[0;34m\u001b[0m\u001b[0m\n\u001b[1;32m    688\u001b[0m \u001b[0;34m\u001b[0m\u001b[0m\n",
      "\u001b[0;32m~/miniconda3/lib/python3.8/site-packages/pandas/io/parsers.py\u001b[0m in \u001b[0;36m_read\u001b[0;34m(filepath_or_buffer, kwds)\u001b[0m\n\u001b[1;32m    450\u001b[0m \u001b[0;34m\u001b[0m\u001b[0m\n\u001b[1;32m    451\u001b[0m     \u001b[0;31m# Create the parser.\u001b[0m\u001b[0;34m\u001b[0m\u001b[0;34m\u001b[0m\u001b[0;34m\u001b[0m\u001b[0m\n\u001b[0;32m--> 452\u001b[0;31m     \u001b[0mparser\u001b[0m \u001b[0;34m=\u001b[0m \u001b[0mTextFileReader\u001b[0m\u001b[0;34m(\u001b[0m\u001b[0mfp_or_buf\u001b[0m\u001b[0;34m,\u001b[0m \u001b[0;34m**\u001b[0m\u001b[0mkwds\u001b[0m\u001b[0;34m)\u001b[0m\u001b[0;34m\u001b[0m\u001b[0;34m\u001b[0m\u001b[0m\n\u001b[0m\u001b[1;32m    453\u001b[0m \u001b[0;34m\u001b[0m\u001b[0m\n\u001b[1;32m    454\u001b[0m     \u001b[0;32mif\u001b[0m \u001b[0mchunksize\u001b[0m \u001b[0;32mor\u001b[0m \u001b[0miterator\u001b[0m\u001b[0;34m:\u001b[0m\u001b[0;34m\u001b[0m\u001b[0;34m\u001b[0m\u001b[0m\n",
      "\u001b[0;32m~/miniconda3/lib/python3.8/site-packages/pandas/io/parsers.py\u001b[0m in \u001b[0;36m__init__\u001b[0;34m(self, f, engine, **kwds)\u001b[0m\n\u001b[1;32m    944\u001b[0m             \u001b[0mself\u001b[0m\u001b[0;34m.\u001b[0m\u001b[0moptions\u001b[0m\u001b[0;34m[\u001b[0m\u001b[0;34m\"has_index_names\"\u001b[0m\u001b[0;34m]\u001b[0m \u001b[0;34m=\u001b[0m \u001b[0mkwds\u001b[0m\u001b[0;34m[\u001b[0m\u001b[0;34m\"has_index_names\"\u001b[0m\u001b[0;34m]\u001b[0m\u001b[0;34m\u001b[0m\u001b[0;34m\u001b[0m\u001b[0m\n\u001b[1;32m    945\u001b[0m \u001b[0;34m\u001b[0m\u001b[0m\n\u001b[0;32m--> 946\u001b[0;31m         \u001b[0mself\u001b[0m\u001b[0;34m.\u001b[0m\u001b[0m_make_engine\u001b[0m\u001b[0;34m(\u001b[0m\u001b[0mself\u001b[0m\u001b[0;34m.\u001b[0m\u001b[0mengine\u001b[0m\u001b[0;34m)\u001b[0m\u001b[0;34m\u001b[0m\u001b[0;34m\u001b[0m\u001b[0m\n\u001b[0m\u001b[1;32m    947\u001b[0m \u001b[0;34m\u001b[0m\u001b[0m\n\u001b[1;32m    948\u001b[0m     \u001b[0;32mdef\u001b[0m \u001b[0mclose\u001b[0m\u001b[0;34m(\u001b[0m\u001b[0mself\u001b[0m\u001b[0;34m)\u001b[0m\u001b[0;34m:\u001b[0m\u001b[0;34m\u001b[0m\u001b[0;34m\u001b[0m\u001b[0m\n",
      "\u001b[0;32m~/miniconda3/lib/python3.8/site-packages/pandas/io/parsers.py\u001b[0m in \u001b[0;36m_make_engine\u001b[0;34m(self, engine)\u001b[0m\n\u001b[1;32m   1176\u001b[0m     \u001b[0;32mdef\u001b[0m \u001b[0m_make_engine\u001b[0m\u001b[0;34m(\u001b[0m\u001b[0mself\u001b[0m\u001b[0;34m,\u001b[0m \u001b[0mengine\u001b[0m\u001b[0;34m=\u001b[0m\u001b[0;34m\"c\"\u001b[0m\u001b[0;34m)\u001b[0m\u001b[0;34m:\u001b[0m\u001b[0;34m\u001b[0m\u001b[0;34m\u001b[0m\u001b[0m\n\u001b[1;32m   1177\u001b[0m         \u001b[0;32mif\u001b[0m \u001b[0mengine\u001b[0m \u001b[0;34m==\u001b[0m \u001b[0;34m\"c\"\u001b[0m\u001b[0;34m:\u001b[0m\u001b[0;34m\u001b[0m\u001b[0;34m\u001b[0m\u001b[0m\n\u001b[0;32m-> 1178\u001b[0;31m             \u001b[0mself\u001b[0m\u001b[0;34m.\u001b[0m\u001b[0m_engine\u001b[0m \u001b[0;34m=\u001b[0m \u001b[0mCParserWrapper\u001b[0m\u001b[0;34m(\u001b[0m\u001b[0mself\u001b[0m\u001b[0;34m.\u001b[0m\u001b[0mf\u001b[0m\u001b[0;34m,\u001b[0m \u001b[0;34m**\u001b[0m\u001b[0mself\u001b[0m\u001b[0;34m.\u001b[0m\u001b[0moptions\u001b[0m\u001b[0;34m)\u001b[0m\u001b[0;34m\u001b[0m\u001b[0;34m\u001b[0m\u001b[0m\n\u001b[0m\u001b[1;32m   1179\u001b[0m         \u001b[0;32melse\u001b[0m\u001b[0;34m:\u001b[0m\u001b[0;34m\u001b[0m\u001b[0;34m\u001b[0m\u001b[0m\n\u001b[1;32m   1180\u001b[0m             \u001b[0;32mif\u001b[0m \u001b[0mengine\u001b[0m \u001b[0;34m==\u001b[0m \u001b[0;34m\"python\"\u001b[0m\u001b[0;34m:\u001b[0m\u001b[0;34m\u001b[0m\u001b[0;34m\u001b[0m\u001b[0m\n",
      "\u001b[0;32m~/miniconda3/lib/python3.8/site-packages/pandas/io/parsers.py\u001b[0m in \u001b[0;36m__init__\u001b[0;34m(self, src, **kwds)\u001b[0m\n\u001b[1;32m   2006\u001b[0m         \u001b[0mkwds\u001b[0m\u001b[0;34m[\u001b[0m\u001b[0;34m\"usecols\"\u001b[0m\u001b[0;34m]\u001b[0m \u001b[0;34m=\u001b[0m \u001b[0mself\u001b[0m\u001b[0;34m.\u001b[0m\u001b[0musecols\u001b[0m\u001b[0;34m\u001b[0m\u001b[0;34m\u001b[0m\u001b[0m\n\u001b[1;32m   2007\u001b[0m \u001b[0;34m\u001b[0m\u001b[0m\n\u001b[0;32m-> 2008\u001b[0;31m         \u001b[0mself\u001b[0m\u001b[0;34m.\u001b[0m\u001b[0m_reader\u001b[0m \u001b[0;34m=\u001b[0m \u001b[0mparsers\u001b[0m\u001b[0;34m.\u001b[0m\u001b[0mTextReader\u001b[0m\u001b[0;34m(\u001b[0m\u001b[0msrc\u001b[0m\u001b[0;34m,\u001b[0m \u001b[0;34m**\u001b[0m\u001b[0mkwds\u001b[0m\u001b[0;34m)\u001b[0m\u001b[0;34m\u001b[0m\u001b[0;34m\u001b[0m\u001b[0m\n\u001b[0m\u001b[1;32m   2009\u001b[0m         \u001b[0mself\u001b[0m\u001b[0;34m.\u001b[0m\u001b[0munnamed_cols\u001b[0m \u001b[0;34m=\u001b[0m \u001b[0mself\u001b[0m\u001b[0;34m.\u001b[0m\u001b[0m_reader\u001b[0m\u001b[0;34m.\u001b[0m\u001b[0munnamed_cols\u001b[0m\u001b[0;34m\u001b[0m\u001b[0;34m\u001b[0m\u001b[0m\n\u001b[1;32m   2010\u001b[0m \u001b[0;34m\u001b[0m\u001b[0m\n",
      "\u001b[0;32mpandas/_libs/parsers.pyx\u001b[0m in \u001b[0;36mpandas._libs.parsers.TextReader.__cinit__\u001b[0;34m()\u001b[0m\n",
      "\u001b[0;32mpandas/_libs/parsers.pyx\u001b[0m in \u001b[0;36mpandas._libs.parsers.TextReader._setup_parser_source\u001b[0;34m()\u001b[0m\n",
      "\u001b[0;31mFileNotFoundError\u001b[0m: [Errno 2] No such file or directory: '../outputs/AZ_2020_VTDs/EI_scaleVotes_0_3000_3000/1/prec_mean_counts.csv'"
     ]
    }
   ],
   "source": [
    "EI_results(\"AZ_2020_VTDs\", 3000)"
   ]
  },
  {
   "cell_type": "code",
   "execution_count": 118,
   "metadata": {},
   "outputs": [
    {
     "name": "stdout",
     "output_type": "stream",
     "text": [
      "   scalePop -- 19226\n",
      "   scalePop -- 21661\n",
      "   scalePop -- 21921\n",
      "   scalePop -- 18810\n",
      " scaleVotes -- 22325\n",
      " scaleVotes -- 19699\n",
      " scaleVotes -- 22828\n",
      " scaleVotes -- 20324\n",
      "     buffer -- 22655\n",
      "     buffer -- 19502\n",
      "     buffer -- 22708\n",
      "     buffer -- 20879\n",
      "Min MOV: 18810\n",
      "Max MOV: 22828\n"
     ]
    }
   ],
   "source": [
    "EI_results(\"WI_2020_ward_groups\", 1000)"
   ]
  },
  {
   "cell_type": "code",
   "execution_count": 124,
   "metadata": {},
   "outputs": [
    {
     "name": "stdout",
     "output_type": "stream",
     "text": [
      "   scalePop -- 24528\n",
      "   scalePop -- 21848\n",
      "   scalePop -- 21564\n",
      "   scalePop -- 23843\n",
      " scaleVotes -- 22344\n",
      " scaleVotes -- 23634\n",
      " scaleVotes -- 22204\n",
      " scaleVotes -- 24989\n"
     ]
    },
    {
     "ename": "FileNotFoundError",
     "evalue": "[Errno 2] No such file or directory: '../outputs/WI_2020_ward_groups/EI_buffer_0_3000_3000/1/prec_mean_counts.csv'",
     "output_type": "error",
     "traceback": [
      "\u001b[0;31m---------------------------------------------------------------------------\u001b[0m",
      "\u001b[0;31mFileNotFoundError\u001b[0m                         Traceback (most recent call last)",
      "\u001b[0;32m<ipython-input-124-c6a739ca2ec1>\u001b[0m in \u001b[0;36m<module>\u001b[0;34m\u001b[0m\n\u001b[0;32m----> 1\u001b[0;31m \u001b[0mEI_results\u001b[0m\u001b[0;34m(\u001b[0m\u001b[0;34m\"WI_2020_ward_groups\"\u001b[0m\u001b[0;34m,\u001b[0m \u001b[0;36m3000\u001b[0m\u001b[0;34m)\u001b[0m\u001b[0;34m\u001b[0m\u001b[0;34m\u001b[0m\u001b[0m\n\u001b[0m",
      "\u001b[0;32m<ipython-input-115-6137cbb0ad62>\u001b[0m in \u001b[0;36mEI_results\u001b[0;34m(data_run, length, pop)\u001b[0m\n\u001b[1;32m      5\u001b[0m         \u001b[0mrun\u001b[0m \u001b[0;34m=\u001b[0m \u001b[0;34mf\"{data_run}/EI_{ei_run}_0_{length}_{length}\"\u001b[0m\u001b[0;34m\u001b[0m\u001b[0;34m\u001b[0m\u001b[0m\n\u001b[1;32m      6\u001b[0m         \u001b[0;32mfor\u001b[0m \u001b[0mi\u001b[0m \u001b[0;32min\u001b[0m \u001b[0mrange\u001b[0m\u001b[0;34m(\u001b[0m\u001b[0;36m1\u001b[0m\u001b[0;34m,\u001b[0m\u001b[0;36m5\u001b[0m\u001b[0;34m)\u001b[0m\u001b[0;34m:\u001b[0m\u001b[0;34m\u001b[0m\u001b[0;34m\u001b[0m\u001b[0m\n\u001b[0;32m----> 7\u001b[0;31m             \u001b[0mdf\u001b[0m \u001b[0;34m=\u001b[0m \u001b[0mpd\u001b[0m\u001b[0;34m.\u001b[0m\u001b[0mread_csv\u001b[0m\u001b[0;34m(\u001b[0m\u001b[0;34mf\"../outputs/{run}/{i}/prec_mean_counts.csv\"\u001b[0m\u001b[0;34m)\u001b[0m\u001b[0;34m\u001b[0m\u001b[0;34m\u001b[0m\u001b[0m\n\u001b[0m\u001b[1;32m      8\u001b[0m             \u001b[0mmov\u001b[0m \u001b[0;34m=\u001b[0m \u001b[0mdf\u001b[0m\u001b[0;34m[\u001b[0m\u001b[0;34mf\"EI_AMIN{pop}._PRES20D\"\u001b[0m\u001b[0;34m]\u001b[0m\u001b[0;34m.\u001b[0m\u001b[0msum\u001b[0m\u001b[0;34m(\u001b[0m\u001b[0;34m)\u001b[0m \u001b[0;34m-\u001b[0m \u001b[0mdf\u001b[0m\u001b[0;34m[\u001b[0m\u001b[0;34mf\"EI_AMIN{pop}._PRES20R\"\u001b[0m\u001b[0;34m]\u001b[0m\u001b[0;34m.\u001b[0m\u001b[0msum\u001b[0m\u001b[0;34m(\u001b[0m\u001b[0;34m)\u001b[0m\u001b[0;34m\u001b[0m\u001b[0;34m\u001b[0m\u001b[0m\n\u001b[1;32m      9\u001b[0m             \u001b[0mprint\u001b[0m\u001b[0;34m(\u001b[0m\u001b[0;34mf\"{ei_run} -- {mov}\"\u001b[0m\u001b[0;34m.\u001b[0m\u001b[0mrjust\u001b[0m\u001b[0;34m(\u001b[0m\u001b[0;36m20\u001b[0m\u001b[0;34m,\u001b[0m \u001b[0;34m\" \"\u001b[0m\u001b[0;34m)\u001b[0m\u001b[0;34m)\u001b[0m\u001b[0;34m\u001b[0m\u001b[0;34m\u001b[0m\u001b[0m\n",
      "\u001b[0;32m~/miniconda3/lib/python3.8/site-packages/pandas/io/parsers.py\u001b[0m in \u001b[0;36mread_csv\u001b[0;34m(filepath_or_buffer, sep, delimiter, header, names, index_col, usecols, squeeze, prefix, mangle_dupe_cols, dtype, engine, converters, true_values, false_values, skipinitialspace, skiprows, skipfooter, nrows, na_values, keep_default_na, na_filter, verbose, skip_blank_lines, parse_dates, infer_datetime_format, keep_date_col, date_parser, dayfirst, cache_dates, iterator, chunksize, compression, thousands, decimal, lineterminator, quotechar, quoting, doublequote, escapechar, comment, encoding, dialect, error_bad_lines, warn_bad_lines, delim_whitespace, low_memory, memory_map, float_precision)\u001b[0m\n\u001b[1;32m    684\u001b[0m     )\n\u001b[1;32m    685\u001b[0m \u001b[0;34m\u001b[0m\u001b[0m\n\u001b[0;32m--> 686\u001b[0;31m     \u001b[0;32mreturn\u001b[0m \u001b[0m_read\u001b[0m\u001b[0;34m(\u001b[0m\u001b[0mfilepath_or_buffer\u001b[0m\u001b[0;34m,\u001b[0m \u001b[0mkwds\u001b[0m\u001b[0;34m)\u001b[0m\u001b[0;34m\u001b[0m\u001b[0;34m\u001b[0m\u001b[0m\n\u001b[0m\u001b[1;32m    687\u001b[0m \u001b[0;34m\u001b[0m\u001b[0m\n\u001b[1;32m    688\u001b[0m \u001b[0;34m\u001b[0m\u001b[0m\n",
      "\u001b[0;32m~/miniconda3/lib/python3.8/site-packages/pandas/io/parsers.py\u001b[0m in \u001b[0;36m_read\u001b[0;34m(filepath_or_buffer, kwds)\u001b[0m\n\u001b[1;32m    450\u001b[0m \u001b[0;34m\u001b[0m\u001b[0m\n\u001b[1;32m    451\u001b[0m     \u001b[0;31m# Create the parser.\u001b[0m\u001b[0;34m\u001b[0m\u001b[0;34m\u001b[0m\u001b[0;34m\u001b[0m\u001b[0m\n\u001b[0;32m--> 452\u001b[0;31m     \u001b[0mparser\u001b[0m \u001b[0;34m=\u001b[0m \u001b[0mTextFileReader\u001b[0m\u001b[0;34m(\u001b[0m\u001b[0mfp_or_buf\u001b[0m\u001b[0;34m,\u001b[0m \u001b[0;34m**\u001b[0m\u001b[0mkwds\u001b[0m\u001b[0;34m)\u001b[0m\u001b[0;34m\u001b[0m\u001b[0;34m\u001b[0m\u001b[0m\n\u001b[0m\u001b[1;32m    453\u001b[0m \u001b[0;34m\u001b[0m\u001b[0m\n\u001b[1;32m    454\u001b[0m     \u001b[0;32mif\u001b[0m \u001b[0mchunksize\u001b[0m \u001b[0;32mor\u001b[0m \u001b[0miterator\u001b[0m\u001b[0;34m:\u001b[0m\u001b[0;34m\u001b[0m\u001b[0;34m\u001b[0m\u001b[0m\n",
      "\u001b[0;32m~/miniconda3/lib/python3.8/site-packages/pandas/io/parsers.py\u001b[0m in \u001b[0;36m__init__\u001b[0;34m(self, f, engine, **kwds)\u001b[0m\n\u001b[1;32m    944\u001b[0m             \u001b[0mself\u001b[0m\u001b[0;34m.\u001b[0m\u001b[0moptions\u001b[0m\u001b[0;34m[\u001b[0m\u001b[0;34m\"has_index_names\"\u001b[0m\u001b[0;34m]\u001b[0m \u001b[0;34m=\u001b[0m \u001b[0mkwds\u001b[0m\u001b[0;34m[\u001b[0m\u001b[0;34m\"has_index_names\"\u001b[0m\u001b[0;34m]\u001b[0m\u001b[0;34m\u001b[0m\u001b[0;34m\u001b[0m\u001b[0m\n\u001b[1;32m    945\u001b[0m \u001b[0;34m\u001b[0m\u001b[0m\n\u001b[0;32m--> 946\u001b[0;31m         \u001b[0mself\u001b[0m\u001b[0;34m.\u001b[0m\u001b[0m_make_engine\u001b[0m\u001b[0;34m(\u001b[0m\u001b[0mself\u001b[0m\u001b[0;34m.\u001b[0m\u001b[0mengine\u001b[0m\u001b[0;34m)\u001b[0m\u001b[0;34m\u001b[0m\u001b[0;34m\u001b[0m\u001b[0m\n\u001b[0m\u001b[1;32m    947\u001b[0m \u001b[0;34m\u001b[0m\u001b[0m\n\u001b[1;32m    948\u001b[0m     \u001b[0;32mdef\u001b[0m \u001b[0mclose\u001b[0m\u001b[0;34m(\u001b[0m\u001b[0mself\u001b[0m\u001b[0;34m)\u001b[0m\u001b[0;34m:\u001b[0m\u001b[0;34m\u001b[0m\u001b[0;34m\u001b[0m\u001b[0m\n",
      "\u001b[0;32m~/miniconda3/lib/python3.8/site-packages/pandas/io/parsers.py\u001b[0m in \u001b[0;36m_make_engine\u001b[0;34m(self, engine)\u001b[0m\n\u001b[1;32m   1176\u001b[0m     \u001b[0;32mdef\u001b[0m \u001b[0m_make_engine\u001b[0m\u001b[0;34m(\u001b[0m\u001b[0mself\u001b[0m\u001b[0;34m,\u001b[0m \u001b[0mengine\u001b[0m\u001b[0;34m=\u001b[0m\u001b[0;34m\"c\"\u001b[0m\u001b[0;34m)\u001b[0m\u001b[0;34m:\u001b[0m\u001b[0;34m\u001b[0m\u001b[0;34m\u001b[0m\u001b[0m\n\u001b[1;32m   1177\u001b[0m         \u001b[0;32mif\u001b[0m \u001b[0mengine\u001b[0m \u001b[0;34m==\u001b[0m \u001b[0;34m\"c\"\u001b[0m\u001b[0;34m:\u001b[0m\u001b[0;34m\u001b[0m\u001b[0;34m\u001b[0m\u001b[0m\n\u001b[0;32m-> 1178\u001b[0;31m             \u001b[0mself\u001b[0m\u001b[0;34m.\u001b[0m\u001b[0m_engine\u001b[0m \u001b[0;34m=\u001b[0m \u001b[0mCParserWrapper\u001b[0m\u001b[0;34m(\u001b[0m\u001b[0mself\u001b[0m\u001b[0;34m.\u001b[0m\u001b[0mf\u001b[0m\u001b[0;34m,\u001b[0m \u001b[0;34m**\u001b[0m\u001b[0mself\u001b[0m\u001b[0;34m.\u001b[0m\u001b[0moptions\u001b[0m\u001b[0;34m)\u001b[0m\u001b[0;34m\u001b[0m\u001b[0;34m\u001b[0m\u001b[0m\n\u001b[0m\u001b[1;32m   1179\u001b[0m         \u001b[0;32melse\u001b[0m\u001b[0;34m:\u001b[0m\u001b[0;34m\u001b[0m\u001b[0;34m\u001b[0m\u001b[0m\n\u001b[1;32m   1180\u001b[0m             \u001b[0;32mif\u001b[0m \u001b[0mengine\u001b[0m \u001b[0;34m==\u001b[0m \u001b[0;34m\"python\"\u001b[0m\u001b[0;34m:\u001b[0m\u001b[0;34m\u001b[0m\u001b[0;34m\u001b[0m\u001b[0m\n",
      "\u001b[0;32m~/miniconda3/lib/python3.8/site-packages/pandas/io/parsers.py\u001b[0m in \u001b[0;36m__init__\u001b[0;34m(self, src, **kwds)\u001b[0m\n\u001b[1;32m   2006\u001b[0m         \u001b[0mkwds\u001b[0m\u001b[0;34m[\u001b[0m\u001b[0;34m\"usecols\"\u001b[0m\u001b[0;34m]\u001b[0m \u001b[0;34m=\u001b[0m \u001b[0mself\u001b[0m\u001b[0;34m.\u001b[0m\u001b[0musecols\u001b[0m\u001b[0;34m\u001b[0m\u001b[0;34m\u001b[0m\u001b[0m\n\u001b[1;32m   2007\u001b[0m \u001b[0;34m\u001b[0m\u001b[0m\n\u001b[0;32m-> 2008\u001b[0;31m         \u001b[0mself\u001b[0m\u001b[0;34m.\u001b[0m\u001b[0m_reader\u001b[0m \u001b[0;34m=\u001b[0m \u001b[0mparsers\u001b[0m\u001b[0;34m.\u001b[0m\u001b[0mTextReader\u001b[0m\u001b[0;34m(\u001b[0m\u001b[0msrc\u001b[0m\u001b[0;34m,\u001b[0m \u001b[0;34m**\u001b[0m\u001b[0mkwds\u001b[0m\u001b[0;34m)\u001b[0m\u001b[0;34m\u001b[0m\u001b[0;34m\u001b[0m\u001b[0m\n\u001b[0m\u001b[1;32m   2009\u001b[0m         \u001b[0mself\u001b[0m\u001b[0;34m.\u001b[0m\u001b[0munnamed_cols\u001b[0m \u001b[0;34m=\u001b[0m \u001b[0mself\u001b[0m\u001b[0;34m.\u001b[0m\u001b[0m_reader\u001b[0m\u001b[0;34m.\u001b[0m\u001b[0munnamed_cols\u001b[0m\u001b[0;34m\u001b[0m\u001b[0;34m\u001b[0m\u001b[0m\n\u001b[1;32m   2010\u001b[0m \u001b[0;34m\u001b[0m\u001b[0m\n",
      "\u001b[0;32mpandas/_libs/parsers.pyx\u001b[0m in \u001b[0;36mpandas._libs.parsers.TextReader.__cinit__\u001b[0;34m()\u001b[0m\n",
      "\u001b[0;32mpandas/_libs/parsers.pyx\u001b[0m in \u001b[0;36mpandas._libs.parsers.TextReader._setup_parser_source\u001b[0;34m()\u001b[0m\n",
      "\u001b[0;31mFileNotFoundError\u001b[0m: [Errno 2] No such file or directory: '../outputs/WI_2020_ward_groups/EI_buffer_0_3000_3000/1/prec_mean_counts.csv'"
     ]
    }
   ],
   "source": [
    "EI_results(\"WI_2020_ward_groups\", 3000)"
   ]
  },
  {
   "cell_type": "code",
   "execution_count": 121,
   "metadata": {},
   "outputs": [],
   "source": [
    "def EI_results_VAP(data_run, length, pop=\"CVAP\"):\n",
    "    movs = []\n",
    "    ei_runs = \"scalePop scaleVotes buffer\".split()\n",
    "    for ei_run in ei_runs:\n",
    "        run = f\"{data_run}/EI_{ei_run}_0_1000_{length}\"\n",
    "        for i in range(1,5):\n",
    "            df = pd.read_csv(f\"../outputs/{run}/{i}/prec_mean_counts.csv\")\n",
    "            mov = df[f\"EI_AMIN{pop}._PRES20D\"].sum() - df[f\"EI_AMIN{pop}._PRES20R\"].sum()\n",
    "            print(f\"{ei_run} -- {mov}\".rjust(20, \" \"))\n",
    "            movs.append(mov)\n",
    "    print(f\"Min MOV: {min(movs)}\")\n",
    "    print(f\"Max MOV: {max(movs)}\")\n",
    "#     return movs"
   ]
  },
  {
   "cell_type": "code",
   "execution_count": 123,
   "metadata": {},
   "outputs": [
    {
     "name": "stdout",
     "output_type": "stream",
     "text": [
      "  scalePop -- -10483\n",
      "  scalePop -- -13957\n",
      "   scalePop -- 11053\n",
      "  scalePop -- -17693\n"
     ]
    },
    {
     "ename": "FileNotFoundError",
     "evalue": "[Errno 2] No such file or directory: '../outputs/GA_2020_precincts/EI_scaleVotes_0_1000_1001/1/prec_mean_counts.csv'",
     "output_type": "error",
     "traceback": [
      "\u001b[0;31m---------------------------------------------------------------------------\u001b[0m",
      "\u001b[0;31mFileNotFoundError\u001b[0m                         Traceback (most recent call last)",
      "\u001b[0;32m<ipython-input-123-dfa3319ac24f>\u001b[0m in \u001b[0;36m<module>\u001b[0;34m\u001b[0m\n\u001b[0;32m----> 1\u001b[0;31m \u001b[0mEI_results_VAP\u001b[0m\u001b[0;34m(\u001b[0m\u001b[0;34m\"GA_2020_precincts\"\u001b[0m\u001b[0;34m,\u001b[0m \u001b[0;36m1001\u001b[0m\u001b[0;34m,\u001b[0m \u001b[0mpop\u001b[0m\u001b[0;34m=\u001b[0m\u001b[0;34m\"VAP\"\u001b[0m\u001b[0;34m)\u001b[0m\u001b[0;34m\u001b[0m\u001b[0;34m\u001b[0m\u001b[0m\n\u001b[0m",
      "\u001b[0;32m<ipython-input-121-611c9b4f1294>\u001b[0m in \u001b[0;36mEI_results_VAP\u001b[0;34m(data_run, length, pop)\u001b[0m\n\u001b[1;32m      5\u001b[0m         \u001b[0mrun\u001b[0m \u001b[0;34m=\u001b[0m \u001b[0;34mf\"{data_run}/EI_{ei_run}_0_1000_{length}\"\u001b[0m\u001b[0;34m\u001b[0m\u001b[0;34m\u001b[0m\u001b[0m\n\u001b[1;32m      6\u001b[0m         \u001b[0;32mfor\u001b[0m \u001b[0mi\u001b[0m \u001b[0;32min\u001b[0m \u001b[0mrange\u001b[0m\u001b[0;34m(\u001b[0m\u001b[0;36m1\u001b[0m\u001b[0;34m,\u001b[0m\u001b[0;36m5\u001b[0m\u001b[0;34m)\u001b[0m\u001b[0;34m:\u001b[0m\u001b[0;34m\u001b[0m\u001b[0;34m\u001b[0m\u001b[0m\n\u001b[0;32m----> 7\u001b[0;31m             \u001b[0mdf\u001b[0m \u001b[0;34m=\u001b[0m \u001b[0mpd\u001b[0m\u001b[0;34m.\u001b[0m\u001b[0mread_csv\u001b[0m\u001b[0;34m(\u001b[0m\u001b[0;34mf\"../outputs/{run}/{i}/prec_mean_counts.csv\"\u001b[0m\u001b[0;34m)\u001b[0m\u001b[0;34m\u001b[0m\u001b[0;34m\u001b[0m\u001b[0m\n\u001b[0m\u001b[1;32m      8\u001b[0m             \u001b[0mmov\u001b[0m \u001b[0;34m=\u001b[0m \u001b[0mdf\u001b[0m\u001b[0;34m[\u001b[0m\u001b[0;34mf\"EI_AMIN{pop}._PRES20D\"\u001b[0m\u001b[0;34m]\u001b[0m\u001b[0;34m.\u001b[0m\u001b[0msum\u001b[0m\u001b[0;34m(\u001b[0m\u001b[0;34m)\u001b[0m \u001b[0;34m-\u001b[0m \u001b[0mdf\u001b[0m\u001b[0;34m[\u001b[0m\u001b[0;34mf\"EI_AMIN{pop}._PRES20R\"\u001b[0m\u001b[0;34m]\u001b[0m\u001b[0;34m.\u001b[0m\u001b[0msum\u001b[0m\u001b[0;34m(\u001b[0m\u001b[0;34m)\u001b[0m\u001b[0;34m\u001b[0m\u001b[0;34m\u001b[0m\u001b[0m\n\u001b[1;32m      9\u001b[0m             \u001b[0mprint\u001b[0m\u001b[0;34m(\u001b[0m\u001b[0;34mf\"{ei_run} -- {mov}\"\u001b[0m\u001b[0;34m.\u001b[0m\u001b[0mrjust\u001b[0m\u001b[0;34m(\u001b[0m\u001b[0;36m20\u001b[0m\u001b[0;34m,\u001b[0m \u001b[0;34m\" \"\u001b[0m\u001b[0;34m)\u001b[0m\u001b[0;34m)\u001b[0m\u001b[0;34m\u001b[0m\u001b[0;34m\u001b[0m\u001b[0m\n",
      "\u001b[0;32m~/miniconda3/lib/python3.8/site-packages/pandas/io/parsers.py\u001b[0m in \u001b[0;36mread_csv\u001b[0;34m(filepath_or_buffer, sep, delimiter, header, names, index_col, usecols, squeeze, prefix, mangle_dupe_cols, dtype, engine, converters, true_values, false_values, skipinitialspace, skiprows, skipfooter, nrows, na_values, keep_default_na, na_filter, verbose, skip_blank_lines, parse_dates, infer_datetime_format, keep_date_col, date_parser, dayfirst, cache_dates, iterator, chunksize, compression, thousands, decimal, lineterminator, quotechar, quoting, doublequote, escapechar, comment, encoding, dialect, error_bad_lines, warn_bad_lines, delim_whitespace, low_memory, memory_map, float_precision)\u001b[0m\n\u001b[1;32m    684\u001b[0m     )\n\u001b[1;32m    685\u001b[0m \u001b[0;34m\u001b[0m\u001b[0m\n\u001b[0;32m--> 686\u001b[0;31m     \u001b[0;32mreturn\u001b[0m \u001b[0m_read\u001b[0m\u001b[0;34m(\u001b[0m\u001b[0mfilepath_or_buffer\u001b[0m\u001b[0;34m,\u001b[0m \u001b[0mkwds\u001b[0m\u001b[0;34m)\u001b[0m\u001b[0;34m\u001b[0m\u001b[0;34m\u001b[0m\u001b[0m\n\u001b[0m\u001b[1;32m    687\u001b[0m \u001b[0;34m\u001b[0m\u001b[0m\n\u001b[1;32m    688\u001b[0m \u001b[0;34m\u001b[0m\u001b[0m\n",
      "\u001b[0;32m~/miniconda3/lib/python3.8/site-packages/pandas/io/parsers.py\u001b[0m in \u001b[0;36m_read\u001b[0;34m(filepath_or_buffer, kwds)\u001b[0m\n\u001b[1;32m    450\u001b[0m \u001b[0;34m\u001b[0m\u001b[0m\n\u001b[1;32m    451\u001b[0m     \u001b[0;31m# Create the parser.\u001b[0m\u001b[0;34m\u001b[0m\u001b[0;34m\u001b[0m\u001b[0;34m\u001b[0m\u001b[0m\n\u001b[0;32m--> 452\u001b[0;31m     \u001b[0mparser\u001b[0m \u001b[0;34m=\u001b[0m \u001b[0mTextFileReader\u001b[0m\u001b[0;34m(\u001b[0m\u001b[0mfp_or_buf\u001b[0m\u001b[0;34m,\u001b[0m \u001b[0;34m**\u001b[0m\u001b[0mkwds\u001b[0m\u001b[0;34m)\u001b[0m\u001b[0;34m\u001b[0m\u001b[0;34m\u001b[0m\u001b[0m\n\u001b[0m\u001b[1;32m    453\u001b[0m \u001b[0;34m\u001b[0m\u001b[0m\n\u001b[1;32m    454\u001b[0m     \u001b[0;32mif\u001b[0m \u001b[0mchunksize\u001b[0m \u001b[0;32mor\u001b[0m \u001b[0miterator\u001b[0m\u001b[0;34m:\u001b[0m\u001b[0;34m\u001b[0m\u001b[0;34m\u001b[0m\u001b[0m\n",
      "\u001b[0;32m~/miniconda3/lib/python3.8/site-packages/pandas/io/parsers.py\u001b[0m in \u001b[0;36m__init__\u001b[0;34m(self, f, engine, **kwds)\u001b[0m\n\u001b[1;32m    944\u001b[0m             \u001b[0mself\u001b[0m\u001b[0;34m.\u001b[0m\u001b[0moptions\u001b[0m\u001b[0;34m[\u001b[0m\u001b[0;34m\"has_index_names\"\u001b[0m\u001b[0;34m]\u001b[0m \u001b[0;34m=\u001b[0m \u001b[0mkwds\u001b[0m\u001b[0;34m[\u001b[0m\u001b[0;34m\"has_index_names\"\u001b[0m\u001b[0;34m]\u001b[0m\u001b[0;34m\u001b[0m\u001b[0;34m\u001b[0m\u001b[0m\n\u001b[1;32m    945\u001b[0m \u001b[0;34m\u001b[0m\u001b[0m\n\u001b[0;32m--> 946\u001b[0;31m         \u001b[0mself\u001b[0m\u001b[0;34m.\u001b[0m\u001b[0m_make_engine\u001b[0m\u001b[0;34m(\u001b[0m\u001b[0mself\u001b[0m\u001b[0;34m.\u001b[0m\u001b[0mengine\u001b[0m\u001b[0;34m)\u001b[0m\u001b[0;34m\u001b[0m\u001b[0;34m\u001b[0m\u001b[0m\n\u001b[0m\u001b[1;32m    947\u001b[0m \u001b[0;34m\u001b[0m\u001b[0m\n\u001b[1;32m    948\u001b[0m     \u001b[0;32mdef\u001b[0m \u001b[0mclose\u001b[0m\u001b[0;34m(\u001b[0m\u001b[0mself\u001b[0m\u001b[0;34m)\u001b[0m\u001b[0;34m:\u001b[0m\u001b[0;34m\u001b[0m\u001b[0;34m\u001b[0m\u001b[0m\n",
      "\u001b[0;32m~/miniconda3/lib/python3.8/site-packages/pandas/io/parsers.py\u001b[0m in \u001b[0;36m_make_engine\u001b[0;34m(self, engine)\u001b[0m\n\u001b[1;32m   1176\u001b[0m     \u001b[0;32mdef\u001b[0m \u001b[0m_make_engine\u001b[0m\u001b[0;34m(\u001b[0m\u001b[0mself\u001b[0m\u001b[0;34m,\u001b[0m \u001b[0mengine\u001b[0m\u001b[0;34m=\u001b[0m\u001b[0;34m\"c\"\u001b[0m\u001b[0;34m)\u001b[0m\u001b[0;34m:\u001b[0m\u001b[0;34m\u001b[0m\u001b[0;34m\u001b[0m\u001b[0m\n\u001b[1;32m   1177\u001b[0m         \u001b[0;32mif\u001b[0m \u001b[0mengine\u001b[0m \u001b[0;34m==\u001b[0m \u001b[0;34m\"c\"\u001b[0m\u001b[0;34m:\u001b[0m\u001b[0;34m\u001b[0m\u001b[0;34m\u001b[0m\u001b[0m\n\u001b[0;32m-> 1178\u001b[0;31m             \u001b[0mself\u001b[0m\u001b[0;34m.\u001b[0m\u001b[0m_engine\u001b[0m \u001b[0;34m=\u001b[0m \u001b[0mCParserWrapper\u001b[0m\u001b[0;34m(\u001b[0m\u001b[0mself\u001b[0m\u001b[0;34m.\u001b[0m\u001b[0mf\u001b[0m\u001b[0;34m,\u001b[0m \u001b[0;34m**\u001b[0m\u001b[0mself\u001b[0m\u001b[0;34m.\u001b[0m\u001b[0moptions\u001b[0m\u001b[0;34m)\u001b[0m\u001b[0;34m\u001b[0m\u001b[0;34m\u001b[0m\u001b[0m\n\u001b[0m\u001b[1;32m   1179\u001b[0m         \u001b[0;32melse\u001b[0m\u001b[0;34m:\u001b[0m\u001b[0;34m\u001b[0m\u001b[0;34m\u001b[0m\u001b[0m\n\u001b[1;32m   1180\u001b[0m             \u001b[0;32mif\u001b[0m \u001b[0mengine\u001b[0m \u001b[0;34m==\u001b[0m \u001b[0;34m\"python\"\u001b[0m\u001b[0;34m:\u001b[0m\u001b[0;34m\u001b[0m\u001b[0;34m\u001b[0m\u001b[0m\n",
      "\u001b[0;32m~/miniconda3/lib/python3.8/site-packages/pandas/io/parsers.py\u001b[0m in \u001b[0;36m__init__\u001b[0;34m(self, src, **kwds)\u001b[0m\n\u001b[1;32m   2006\u001b[0m         \u001b[0mkwds\u001b[0m\u001b[0;34m[\u001b[0m\u001b[0;34m\"usecols\"\u001b[0m\u001b[0;34m]\u001b[0m \u001b[0;34m=\u001b[0m \u001b[0mself\u001b[0m\u001b[0;34m.\u001b[0m\u001b[0musecols\u001b[0m\u001b[0;34m\u001b[0m\u001b[0;34m\u001b[0m\u001b[0m\n\u001b[1;32m   2007\u001b[0m \u001b[0;34m\u001b[0m\u001b[0m\n\u001b[0;32m-> 2008\u001b[0;31m         \u001b[0mself\u001b[0m\u001b[0;34m.\u001b[0m\u001b[0m_reader\u001b[0m \u001b[0;34m=\u001b[0m \u001b[0mparsers\u001b[0m\u001b[0;34m.\u001b[0m\u001b[0mTextReader\u001b[0m\u001b[0;34m(\u001b[0m\u001b[0msrc\u001b[0m\u001b[0;34m,\u001b[0m \u001b[0;34m**\u001b[0m\u001b[0mkwds\u001b[0m\u001b[0;34m)\u001b[0m\u001b[0;34m\u001b[0m\u001b[0;34m\u001b[0m\u001b[0m\n\u001b[0m\u001b[1;32m   2009\u001b[0m         \u001b[0mself\u001b[0m\u001b[0;34m.\u001b[0m\u001b[0munnamed_cols\u001b[0m \u001b[0;34m=\u001b[0m \u001b[0mself\u001b[0m\u001b[0;34m.\u001b[0m\u001b[0m_reader\u001b[0m\u001b[0;34m.\u001b[0m\u001b[0munnamed_cols\u001b[0m\u001b[0;34m\u001b[0m\u001b[0;34m\u001b[0m\u001b[0m\n\u001b[1;32m   2010\u001b[0m \u001b[0;34m\u001b[0m\u001b[0m\n",
      "\u001b[0;32mpandas/_libs/parsers.pyx\u001b[0m in \u001b[0;36mpandas._libs.parsers.TextReader.__cinit__\u001b[0;34m()\u001b[0m\n",
      "\u001b[0;32mpandas/_libs/parsers.pyx\u001b[0m in \u001b[0;36mpandas._libs.parsers.TextReader._setup_parser_source\u001b[0;34m()\u001b[0m\n",
      "\u001b[0;31mFileNotFoundError\u001b[0m: [Errno 2] No such file or directory: '../outputs/GA_2020_precincts/EI_scaleVotes_0_1000_1001/1/prec_mean_counts.csv'"
     ]
    }
   ],
   "source": [
    "EI_results_VAP(\"GA_2020_precincts\", 1001, pop=\"VAP\")"
   ]
  },
  {
   "cell_type": "code",
   "execution_count": 47,
   "metadata": {},
   "outputs": [],
   "source": [
    "cands = [\"PRES20D\", \"PRES20R\", \"NOTVOTES\"]\n",
    "\n",
    "def summarize(ei_run, data_run):\n",
    "    print(f\"Data run: {data_run}\")\n",
    "    print(f\"  EI run: {ei_run}\")\n",
    "    df = pd.read_csv(f\"../outputs/{data_run}/{ei_run}/1/prec_mean_counts.csv\")\n",
    "    print(\"AMIN CVAP %: {:.2%}\".format(df[\"AMINCVAP.\"].sum() / df[\"CVAP\"].sum()))\n",
    "    for i in range(1,5):\n",
    "        print(f\"EI run {i}:\")\n",
    "        df = pd.read_csv(f\"../outputs/{data_run}/{ei_run}/{i}/prec_mean_counts.csv\")\n",
    "        AMIN_Biden = df[\"EI_AMINCVAP._PRES20D\"].sum()\n",
    "        AMIN_Trump =df[\"EI_AMINCVAP._PRES20R\"].sum()\n",
    "        biden_MOV = AMIN_Biden - AMIN_Trump\n",
    "        turnout = (AMIN_Biden + AMIN_Trump) / sum([df[f\"EI_AMINCVAP._{c}\"].sum() for c in cands])\n",
    "        print(f\" -- AMIN Biden votes: {AMIN_Biden}\")\n",
    "        print(f\" -- AMIN Trump votes: {AMIN_Trump}\")\n",
    "        print(f\" -- Biden Margin of Victory: {biden_MOV}\")\n",
    "        print(f\" -- AMIN Turnout {turnout}\")\n",
    "    return"
   ]
  },
  {
   "cell_type": "code",
   "execution_count": 63,
   "metadata": {},
   "outputs": [
    {
     "name": "stdout",
     "output_type": "stream",
     "text": [
      "Data run: AZ_2020_VTDs\n",
      "  EI run: EI_scalePop_0_1000_1000\n",
      "AMIN CVAP %: 4.87%\n",
      "EI run 1:\n",
      " -- AMIN Biden votes: 126439\n",
      " -- AMIN Trump votes: 44812\n",
      " -- Biden Margin of Victory: 81627\n",
      " -- AMIN Turnout 0.719935258754782\n",
      "EI run 2:\n",
      " -- AMIN Biden votes: 126316\n",
      " -- AMIN Trump votes: 43914\n",
      " -- Biden Margin of Victory: 82402\n",
      " -- AMIN Turnout 0.7155527532576713\n",
      "EI run 3:\n",
      " -- AMIN Biden votes: 125692\n",
      " -- AMIN Trump votes: 44739\n",
      " -- Biden Margin of Victory: 80953\n",
      " -- AMIN Turnout 0.7163585007965096\n",
      "EI run 4:\n",
      " -- AMIN Biden votes: 124841\n",
      " -- AMIN Trump votes: 45836\n",
      " -- Biden Margin of Victory: 79005\n",
      " -- AMIN Turnout 0.7174347096877246\n"
     ]
    }
   ],
   "source": [
    "summarize(\"EI_scalePop_0_1000_1000\", \"AZ_2020_VTDs\")"
   ]
  },
  {
   "cell_type": "code",
   "execution_count": 69,
   "metadata": {},
   "outputs": [
    {
     "name": "stdout",
     "output_type": "stream",
     "text": [
      "Data run: AZ_2020_VTDs\n",
      "  EI run: EI_scalePop_0_3000_3000\n",
      "AMIN CVAP %: 4.87%\n",
      "EI run 1:\n",
      " -- AMIN Biden votes: 128561\n",
      " -- AMIN Trump votes: 42791\n",
      " -- Biden Margin of Victory: 85770\n",
      " -- AMIN Turnout 0.7203083817106442\n",
      "EI run 2:\n",
      " -- AMIN Biden votes: 128044\n",
      " -- AMIN Trump votes: 43305\n",
      " -- Biden Margin of Victory: 84739\n",
      " -- AMIN Turnout 0.7203169665377501\n",
      "EI run 3:\n",
      " -- AMIN Biden votes: 128259\n",
      " -- AMIN Trump votes: 42424\n",
      " -- Biden Margin of Victory: 85835\n",
      " -- AMIN Turnout 0.7174056498694923\n",
      "EI run 4:\n",
      " -- AMIN Biden votes: 127588\n",
      " -- AMIN Trump votes: 44362\n",
      " -- Biden Margin of Victory: 83226\n",
      " -- AMIN Turnout 0.7229011901909098\n"
     ]
    }
   ],
   "source": [
    "summarize(\"EI_scalePop_0_3000_3000\", \"AZ_2020_VTDs\")"
   ]
  },
  {
   "cell_type": "code",
   "execution_count": 64,
   "metadata": {},
   "outputs": [
    {
     "name": "stdout",
     "output_type": "stream",
     "text": [
      "Data run: AZ_2020_VTDs\n",
      "  EI run: EI_scaleVotes_0_1000_1000\n",
      "AMIN CVAP %: 4.51%\n",
      "EI run 1:\n",
      " -- AMIN Biden votes: 116261\n",
      " -- AMIN Trump votes: 36985\n",
      " -- Biden Margin of Victory: 79276\n",
      " -- AMIN Turnout 0.6946907468857096\n",
      "EI run 2:\n",
      " -- AMIN Biden votes: 115149\n",
      " -- AMIN Trump votes: 37818\n",
      " -- Biden Margin of Victory: 77331\n",
      " -- AMIN Turnout 0.6934291348398649\n",
      "EI run 3:\n",
      " -- AMIN Biden votes: 117027\n",
      " -- AMIN Trump votes: 35255\n",
      " -- Biden Margin of Victory: 81772\n",
      " -- AMIN Turnout 0.6903958798034202\n",
      "EI run 4:\n",
      " -- AMIN Biden votes: 114678\n",
      " -- AMIN Trump votes: 38039\n",
      " -- Biden Margin of Victory: 76639\n",
      " -- AMIN Turnout 0.6923491916691601\n"
     ]
    }
   ],
   "source": [
    "summarize(\"EI_scaleVotes_0_1000_1000\", \"AZ_2020_VTDs\")"
   ]
  },
  {
   "cell_type": "code",
   "execution_count": 65,
   "metadata": {},
   "outputs": [
    {
     "name": "stdout",
     "output_type": "stream",
     "text": [
      "Data run: AZ_2020_VTDs\n",
      "  EI run: EI_buffer_0_1000_1000\n",
      "AMIN CVAP %: 4.51%\n",
      "EI run 1:\n",
      " -- AMIN Biden votes: 116989\n",
      " -- AMIN Trump votes: 37046\n",
      " -- Biden Margin of Victory: 79943\n",
      " -- AMIN Turnout 0.6984985693102307\n",
      "EI run 2:\n",
      " -- AMIN Biden votes: 114425\n",
      " -- AMIN Trump votes: 38779\n",
      " -- Biden Margin of Victory: 75646\n",
      " -- AMIN Turnout 0.6946704029164513\n",
      "EI run 3:\n",
      " -- AMIN Biden votes: 113733\n",
      " -- AMIN Trump votes: 39139\n",
      " -- Biden Margin of Victory: 74594\n",
      " -- AMIN Turnout 0.6931461631934999\n",
      "EI run 4:\n",
      " -- AMIN Biden votes: 117331\n",
      " -- AMIN Trump votes: 36464\n",
      " -- Biden Margin of Victory: 80867\n",
      " -- AMIN Turnout 0.6974671776150201\n"
     ]
    }
   ],
   "source": [
    "summarize(\"EI_buffer_0_1000_1000\", \"AZ_2020_VTDs\")"
   ]
  },
  {
   "cell_type": "code",
   "execution_count": 62,
   "metadata": {},
   "outputs": [
    {
     "name": "stdout",
     "output_type": "stream",
     "text": [
      "Data run: WI_2020_ward_groups\n",
      "  EI run: EI_buffer_0_1000_1000\n",
      "AMIN CVAP %: 1.23%\n",
      "EI run 1:\n",
      " -- AMIN Biden votes: 34130\n",
      " -- AMIN Trump votes: 11475\n",
      " -- Biden Margin of Victory: 22655\n",
      " -- AMIN Turnout 0.8520158427680006\n",
      "EI run 2:\n",
      " -- AMIN Biden votes: 32674\n",
      " -- AMIN Trump votes: 13172\n",
      " -- Biden Margin of Victory: 19502\n",
      " -- AMIN Turnout 0.8543157423971377\n",
      "EI run 3:\n",
      " -- AMIN Biden votes: 33862\n",
      " -- AMIN Trump votes: 11154\n",
      " -- Biden Margin of Victory: 22708\n",
      " -- AMIN Turnout 0.8406192227969599\n",
      "EI run 4:\n",
      " -- AMIN Biden votes: 33264\n",
      " -- AMIN Trump votes: 12385\n",
      " -- Biden Margin of Victory: 20879\n",
      " -- AMIN Turnout 0.8527582148661523\n"
     ]
    }
   ],
   "source": [
    "summarize(\"EI_buffer_0_1000_1000\", \"WI_2020_ward_groups\")"
   ]
  },
  {
   "cell_type": "code",
   "execution_count": 71,
   "metadata": {},
   "outputs": [
    {
     "name": "stdout",
     "output_type": "stream",
     "text": [
      "Data run: WI_2020_ward_groups\n",
      "  EI run: EI_scalePop_0_1000_1000\n",
      "AMIN CVAP %: 1.23%\n",
      "EI run 1:\n",
      " -- AMIN Biden votes: 32382\n",
      " -- AMIN Trump votes: 13156\n",
      " -- Biden Margin of Victory: 19226\n",
      " -- AMIN Turnout 0.8469349799137034\n",
      "EI run 2:\n",
      " -- AMIN Biden votes: 33227\n",
      " -- AMIN Trump votes: 11566\n",
      " -- Biden Margin of Victory: 21661\n",
      " -- AMIN Turnout 0.8340098309376629\n",
      "EI run 3:\n",
      " -- AMIN Biden votes: 33795\n",
      " -- AMIN Trump votes: 11874\n",
      " -- Biden Margin of Victory: 21921\n",
      " -- AMIN Turnout 0.8515410863120211\n",
      "EI run 4:\n",
      " -- AMIN Biden votes: 32219\n",
      " -- AMIN Trump votes: 13409\n",
      " -- Biden Margin of Victory: 18810\n",
      " -- AMIN Turnout 0.8488772301910662\n"
     ]
    }
   ],
   "source": [
    "summarize(\"EI_scalePop_0_1000_1000\", \"WI_2020_ward_groups\")"
   ]
  },
  {
   "cell_type": "code",
   "execution_count": 72,
   "metadata": {},
   "outputs": [
    {
     "name": "stdout",
     "output_type": "stream",
     "text": [
      "Data run: WI_2020_ward_groups\n",
      "  EI run: EI_scalePop_0_3000_3000\n",
      "AMIN CVAP %: 1.23%\n",
      "EI run 1:\n",
      " -- AMIN Biden votes: 34685\n",
      " -- AMIN Trump votes: 10157\n",
      " -- Biden Margin of Victory: 24528\n",
      " -- AMIN Turnout 0.835046554934823\n",
      "EI run 2:\n",
      " -- AMIN Biden votes: 33518\n",
      " -- AMIN Trump votes: 11670\n",
      " -- Biden Margin of Victory: 21848\n",
      " -- AMIN Turnout 0.8423368005070275\n",
      "EI run 3:\n",
      " -- AMIN Biden votes: 33472\n",
      " -- AMIN Trump votes: 11908\n",
      " -- Biden Margin of Victory: 21564\n",
      " -- AMIN Turnout 0.8463575664888657\n",
      "EI run 4:\n",
      " -- AMIN Biden votes: 34469\n",
      " -- AMIN Trump votes: 10626\n",
      " -- Biden Margin of Victory: 23843\n",
      " -- AMIN Turnout 0.8406972408650261\n"
     ]
    }
   ],
   "source": [
    "summarize(\"EI_scalePop_0_3000_3000\", \"WI_2020_ward_groups\")"
   ]
  },
  {
   "cell_type": "code",
   "execution_count": 49,
   "metadata": {},
   "outputs": [
    {
     "name": "stdout",
     "output_type": "stream",
     "text": [
      "Data run: WI_2020_ward_groups\n",
      "  EI run: EI_scaleVotes_0_1000_1000\n",
      "AMIN CVAP %: 1.23%\n",
      "EI run 1:\n",
      " -- AMIN Biden votes: 33133\n",
      " -- AMIN Trump votes: 10808\n",
      " -- Biden Margin of Victory: 22325\n",
      " -- AMIN Turnout 0.8198865544650521\n",
      "EI run 2:\n",
      " -- AMIN Biden votes: 32074\n",
      " -- AMIN Trump votes: 12375\n",
      " -- Biden Margin of Victory: 19699\n",
      " -- AMIN Turnout 0.8297213044371021\n",
      "EI run 3:\n",
      " -- AMIN Biden votes: 33564\n",
      " -- AMIN Trump votes: 10736\n",
      " -- Biden Margin of Victory: 22828\n",
      " -- AMIN Turnout 0.8262458967472396\n",
      "EI run 4:\n",
      " -- AMIN Biden votes: 32054\n",
      " -- AMIN Trump votes: 11730\n",
      " -- Biden Margin of Victory: 20324\n",
      " -- AMIN Turnout 0.8188057524358088\n"
     ]
    }
   ],
   "source": [
    "summarize(\"EI_scaleVotes_0_1000_1000\", \"WI_2020_ward_groups\")"
   ]
  },
  {
   "cell_type": "code",
   "execution_count": 52,
   "metadata": {},
   "outputs": [
    {
     "name": "stdout",
     "output_type": "stream",
     "text": [
      "Data run: GA_2020_precincts\n",
      "  EI run: EI_scaleVotes_0_1000_1000\n",
      "AMIN CVAP %: 0.66%\n",
      "EI run 1:\n",
      " -- AMIN Biden votes: 16038\n",
      " -- AMIN Trump votes: 28994\n",
      " -- Biden Margin of Victory: -12956\n",
      " -- AMIN Turnout 0.9408127023921445\n",
      "EI run 2:\n",
      " -- AMIN Biden votes: 18921\n",
      " -- AMIN Trump votes: 26795\n",
      " -- Biden Margin of Victory: -7874\n",
      " -- AMIN Turnout 0.953907146583203\n",
      "EI run 3:\n",
      " -- AMIN Biden votes: 24110\n",
      " -- AMIN Trump votes: 21330\n",
      " -- Biden Margin of Victory: 2780\n",
      " -- AMIN Turnout 0.9487816591151108\n",
      "EI run 4:\n",
      " -- AMIN Biden votes: 23160\n",
      " -- AMIN Trump votes: 20930\n",
      " -- Biden Margin of Victory: 2230\n",
      " -- AMIN Turnout 0.9238344683080146\n"
     ]
    }
   ],
   "source": [
    "summarize(\"EI_scaleVotes_0_1000_1000\", \"GA_2020_precincts\")"
   ]
  },
  {
   "cell_type": "code",
   "execution_count": 57,
   "metadata": {},
   "outputs": [
    {
     "name": "stdout",
     "output_type": "stream",
     "text": [
      "Data run: GA_2020_precincts\n",
      "  EI run: EI_buffer_0_1000_1000\n",
      "AMIN CVAP %: 0.66%\n",
      "EI run 1:\n",
      " -- AMIN Biden votes: 23327\n",
      " -- AMIN Trump votes: 22507\n",
      " -- Biden Margin of Victory: 820\n",
      " -- AMIN Turnout 0.9624745385439197\n",
      "EI run 2:\n",
      " -- AMIN Biden votes: 23238\n",
      " -- AMIN Trump votes: 22700\n",
      " -- Biden Margin of Victory: 538\n",
      " -- AMIN Turnout 0.9644154262800999\n",
      "EI run 3:\n",
      " -- AMIN Biden votes: 20431\n",
      " -- AMIN Trump votes: 25465\n",
      " -- Biden Margin of Victory: -5034\n",
      " -- AMIN Turnout 0.9577029818667445\n",
      "EI run 4:\n",
      " -- AMIN Biden votes: 21757\n",
      " -- AMIN Trump votes: 24467\n",
      " -- Biden Margin of Victory: -2710\n",
      " -- AMIN Turnout 0.9631805963618179\n"
     ]
    }
   ],
   "source": [
    "summarize(\"EI_buffer_0_1000_1000\", \"GA_2020_precincts\")"
   ]
  }
 ],
 "metadata": {
  "kernelspec": {
   "display_name": "Python 3",
   "language": "python",
   "name": "python3"
  },
  "language_info": {
   "codemirror_mode": {
    "name": "ipython",
    "version": 3
   },
   "file_extension": ".py",
   "mimetype": "text/x-python",
   "name": "python",
   "nbconvert_exporter": "python",
   "pygments_lexer": "ipython3",
   "version": "3.8.5"
  }
 },
 "nbformat": 4,
 "nbformat_minor": 4
}
